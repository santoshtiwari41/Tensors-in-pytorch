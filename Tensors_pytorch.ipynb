{
  "nbformat": 4,
  "nbformat_minor": 0,
  "metadata": {
    "colab": {
      "provenance": [],
      "authorship_tag": "ABX9TyNLXMnFeJjzrhNOxw8Zv9wL",
      "include_colab_link": true
    },
    "kernelspec": {
      "name": "python3",
      "display_name": "Python 3"
    },
    "language_info": {
      "name": "python"
    }
  },
  "cells": [
    {
      "cell_type": "markdown",
      "metadata": {
        "id": "view-in-github",
        "colab_type": "text"
      },
      "source": [
        "<a href=\"https://colab.research.google.com/github/santoshtiwari41/Tensors-in-pytorch/blob/main/Tensors_pytorch.ipynb\" target=\"_parent\"><img src=\"https://colab.research.google.com/assets/colab-badge.svg\" alt=\"Open In Colab\"/></a>"
      ]
    },
    {
      "cell_type": "code",
      "execution_count": 3,
      "metadata": {
        "id": "J7XXngnshOtG"
      },
      "outputs": [],
      "source": [
        "#............................ Creating Tensors.........................................."
      ]
    },
    {
      "cell_type": "code",
      "source": [
        "# import library\n",
        "import torch"
      ],
      "metadata": {
        "id": "GqiunU2Vhct2"
      },
      "execution_count": 4,
      "outputs": []
    },
    {
      "cell_type": "code",
      "source": [
        "# Scalar (0-dimensional tensor)\n",
        "scalar = torch.tensor(3.14)\n",
        "print(\"Scalar:\", scalar)\n",
        "print(\"Scalar Shape:\", scalar.shape)"
      ],
      "metadata": {
        "colab": {
          "base_uri": "https://localhost:8080/"
        },
        "id": "HtPntIvCh0Jl",
        "outputId": "69c3d8a9-35fe-48ff-bd86-fb7cf135a4eb"
      },
      "execution_count": 5,
      "outputs": [
        {
          "output_type": "stream",
          "name": "stdout",
          "text": [
            "Scalar: tensor(3.1400)\n",
            "Scalar Shape: torch.Size([])\n"
          ]
        }
      ]
    },
    {
      "cell_type": "code",
      "source": [
        "# Vector (1-dimensional tensor)\n",
        "vector = torch.tensor([1.0, 2.0, 3.0])\n",
        "print(\"\\nVector:\", vector)\n",
        "print(\"Vector Shape:\", vector.shape)\n"
      ],
      "metadata": {
        "colab": {
          "base_uri": "https://localhost:8080/"
        },
        "id": "GQPUFeGdh3l2",
        "outputId": "f3aaf25d-ea6c-4ff5-92bd-22504222b37e"
      },
      "execution_count": 6,
      "outputs": [
        {
          "output_type": "stream",
          "name": "stdout",
          "text": [
            "\n",
            "Vector: tensor([1., 2., 3.])\n",
            "Vector Shape: torch.Size([3])\n"
          ]
        }
      ]
    },
    {
      "cell_type": "code",
      "source": [
        "# Matrix (2-dimensional tensor)\n",
        "matrix = torch.tensor([[1.0, 2.0], [3.0, 4.0]])\n",
        "print(\"\\nMatrix:\\n\", matrix)\n",
        "print(\"Matrix Shape:\", matrix.shape)\n"
      ],
      "metadata": {
        "colab": {
          "base_uri": "https://localhost:8080/"
        },
        "id": "spAtkqvGh8Ga",
        "outputId": "9679d28e-6e34-4997-82b2-951ff9307fdf"
      },
      "execution_count": 7,
      "outputs": [
        {
          "output_type": "stream",
          "name": "stdout",
          "text": [
            "\n",
            "Matrix:\n",
            " tensor([[1., 2.],\n",
            "        [3., 4.]])\n",
            "Matrix Shape: torch.Size([2, 2])\n"
          ]
        }
      ]
    },
    {
      "cell_type": "code",
      "source": [
        "# Higher-dimensional tensor (3D tensor)\n",
        "tensor_3d = torch.rand(3, 2, 4)  # Random values in a 3x2x4 tensor\n",
        "print(\"\\n3D Tensor:\\n\", tensor_3d)\n",
        "print(\"3D Tensor Shape:\", tensor_3d.shape)"
      ],
      "metadata": {
        "colab": {
          "base_uri": "https://localhost:8080/"
        },
        "id": "ns781IZfiA_K",
        "outputId": "4e531eeb-3deb-4dc7-88e7-5f93ab2e400a"
      },
      "execution_count": 8,
      "outputs": [
        {
          "output_type": "stream",
          "name": "stdout",
          "text": [
            "\n",
            "3D Tensor:\n",
            " tensor([[[0.8969, 0.3541, 0.2836, 0.8298],\n",
            "         [0.6364, 0.9919, 0.4644, 0.4258]],\n",
            "\n",
            "        [[0.3105, 0.0105, 0.6976, 0.2421],\n",
            "         [0.7248, 0.1416, 0.6709, 0.0588]],\n",
            "\n",
            "        [[0.0349, 0.9710, 0.9643, 0.6729],\n",
            "         [0.5786, 0.5939, 0.3145, 0.2885]]])\n",
            "3D Tensor Shape: torch.Size([3, 2, 4])\n"
          ]
        }
      ]
    },
    {
      "cell_type": "code",
      "source": [
        "#......................................................Tensor Operations.........................................."
      ],
      "metadata": {
        "id": "jAwv_HH6iEcY"
      },
      "execution_count": 9,
      "outputs": []
    },
    {
      "cell_type": "code",
      "source": [
        "# Element-wise operations\n",
        "a = torch.tensor([1, 2, 3])\n",
        "b = torch.tensor([4, 5, 6])\n"
      ],
      "metadata": {
        "id": "XVuz7GGOiw1V"
      },
      "execution_count": 10,
      "outputs": []
    },
    {
      "cell_type": "code",
      "source": [
        "# Addition\n",
        "print(\"\\nAddition:\", a + b)\n"
      ],
      "metadata": {
        "colab": {
          "base_uri": "https://localhost:8080/"
        },
        "id": "5Zcw8BvUi1-D",
        "outputId": "518a0f4d-007b-4801-cd3b-15ab7e856416"
      },
      "execution_count": 11,
      "outputs": [
        {
          "output_type": "stream",
          "name": "stdout",
          "text": [
            "\n",
            "Addition: tensor([5, 7, 9])\n"
          ]
        }
      ]
    },
    {
      "cell_type": "code",
      "source": [
        "# Multiplication\n",
        "print(\"Multiplication:\", a * b)\n"
      ],
      "metadata": {
        "colab": {
          "base_uri": "https://localhost:8080/"
        },
        "id": "EiXNChSCi4gT",
        "outputId": "ef36b685-d748-4ba6-f1a1-4a2e49691867"
      },
      "execution_count": 12,
      "outputs": [
        {
          "output_type": "stream",
          "name": "stdout",
          "text": [
            "Multiplication: tensor([ 4, 10, 18])\n"
          ]
        }
      ]
    },
    {
      "cell_type": "code",
      "source": [
        "# Reduction (Sum, Mean)\n",
        "print(\"Sum:\", a.sum())\n",
        "print(\"Mean:\", a.float().mean())  # Convert to float for mean"
      ],
      "metadata": {
        "colab": {
          "base_uri": "https://localhost:8080/"
        },
        "id": "vU1goi4hi7fk",
        "outputId": "2bff64c4-b9f6-458c-9367-4cd09ae26704"
      },
      "execution_count": 13,
      "outputs": [
        {
          "output_type": "stream",
          "name": "stdout",
          "text": [
            "Sum: tensor(6)\n",
            "Mean: tensor(2.)\n"
          ]
        }
      ]
    },
    {
      "cell_type": "code",
      "source": [],
      "metadata": {
        "id": "y9GGszwwi-Gw"
      },
      "execution_count": null,
      "outputs": []
    }
  ]
}