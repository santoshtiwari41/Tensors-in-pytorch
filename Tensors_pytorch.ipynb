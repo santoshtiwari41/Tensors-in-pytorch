{
  "nbformat": 4,
  "nbformat_minor": 0,
  "metadata": {
    "colab": {
      "provenance": [],
      "authorship_tag": "ABX9TyNRidc7n44gm28nuKqgpnmm",
      "include_colab_link": true
    },
    "kernelspec": {
      "name": "python3",
      "display_name": "Python 3"
    },
    "language_info": {
      "name": "python"
    }
  },
  "cells": [
    {
      "cell_type": "markdown",
      "metadata": {
        "id": "view-in-github",
        "colab_type": "text"
      },
      "source": [
        "<a href=\"https://colab.research.google.com/github/santoshtiwari41/Tensors-in-pytorch/blob/main/Tensors_pytorch.ipynb\" target=\"_parent\"><img src=\"https://colab.research.google.com/assets/colab-badge.svg\" alt=\"Open In Colab\"/></a>"
      ]
    },
    {
      "cell_type": "code",
      "execution_count": 3,
      "metadata": {
        "id": "J7XXngnshOtG"
      },
      "outputs": [],
      "source": [
        "#............................ Creating Tensors.........................................."
      ]
    },
    {
      "cell_type": "code",
      "source": [
        "# import library\n",
        "import torch"
      ],
      "metadata": {
        "id": "GqiunU2Vhct2"
      },
      "execution_count": 4,
      "outputs": []
    },
    {
      "cell_type": "code",
      "source": [
        "# Scalar (0-dimensional tensor)\n",
        "scalar = torch.tensor(3.14)\n",
        "print(\"Scalar:\", scalar)\n",
        "print(\"Scalar Shape:\", scalar.shape)"
      ],
      "metadata": {
        "colab": {
          "base_uri": "https://localhost:8080/"
        },
        "id": "HtPntIvCh0Jl",
        "outputId": "69c3d8a9-35fe-48ff-bd86-fb7cf135a4eb"
      },
      "execution_count": 5,
      "outputs": [
        {
          "output_type": "stream",
          "name": "stdout",
          "text": [
            "Scalar: tensor(3.1400)\n",
            "Scalar Shape: torch.Size([])\n"
          ]
        }
      ]
    },
    {
      "cell_type": "code",
      "source": [
        "# Vector (1-dimensional tensor)\n",
        "vector = torch.tensor([1.0, 2.0, 3.0])\n",
        "print(\"\\nVector:\", vector)\n",
        "print(\"Vector Shape:\", vector.shape)\n"
      ],
      "metadata": {
        "colab": {
          "base_uri": "https://localhost:8080/"
        },
        "id": "GQPUFeGdh3l2",
        "outputId": "f3aaf25d-ea6c-4ff5-92bd-22504222b37e"
      },
      "execution_count": 6,
      "outputs": [
        {
          "output_type": "stream",
          "name": "stdout",
          "text": [
            "\n",
            "Vector: tensor([1., 2., 3.])\n",
            "Vector Shape: torch.Size([3])\n"
          ]
        }
      ]
    },
    {
      "cell_type": "code",
      "source": [
        "# Matrix (2-dimensional tensor)\n",
        "matrix = torch.tensor([[1.0, 2.0], [3.0, 4.0]])\n",
        "print(\"\\nMatrix:\\n\", matrix)\n",
        "print(\"Matrix Shape:\", matrix.shape)\n"
      ],
      "metadata": {
        "colab": {
          "base_uri": "https://localhost:8080/"
        },
        "id": "spAtkqvGh8Ga",
        "outputId": "9679d28e-6e34-4997-82b2-951ff9307fdf"
      },
      "execution_count": 7,
      "outputs": [
        {
          "output_type": "stream",
          "name": "stdout",
          "text": [
            "\n",
            "Matrix:\n",
            " tensor([[1., 2.],\n",
            "        [3., 4.]])\n",
            "Matrix Shape: torch.Size([2, 2])\n"
          ]
        }
      ]
    },
    {
      "cell_type": "code",
      "source": [
        "# Higher-dimensional tensor (3D tensor)\n",
        "tensor_3d = torch.rand(3, 2, 4)  # Random values in a 3x2x4 tensor\n",
        "print(\"\\n3D Tensor:\\n\", tensor_3d)\n",
        "print(\"3D Tensor Shape:\", tensor_3d.shape)"
      ],
      "metadata": {
        "colab": {
          "base_uri": "https://localhost:8080/"
        },
        "id": "ns781IZfiA_K",
        "outputId": "4e531eeb-3deb-4dc7-88e7-5f93ab2e400a"
      },
      "execution_count": 8,
      "outputs": [
        {
          "output_type": "stream",
          "name": "stdout",
          "text": [
            "\n",
            "3D Tensor:\n",
            " tensor([[[0.8969, 0.3541, 0.2836, 0.8298],\n",
            "         [0.6364, 0.9919, 0.4644, 0.4258]],\n",
            "\n",
            "        [[0.3105, 0.0105, 0.6976, 0.2421],\n",
            "         [0.7248, 0.1416, 0.6709, 0.0588]],\n",
            "\n",
            "        [[0.0349, 0.9710, 0.9643, 0.6729],\n",
            "         [0.5786, 0.5939, 0.3145, 0.2885]]])\n",
            "3D Tensor Shape: torch.Size([3, 2, 4])\n"
          ]
        }
      ]
    },
    {
      "cell_type": "code",
      "source": [
        "#......................................................Tensor Operations.........................................."
      ],
      "metadata": {
        "id": "jAwv_HH6iEcY"
      },
      "execution_count": 9,
      "outputs": []
    },
    {
      "cell_type": "code",
      "source": [
        "# Element-wise operations\n",
        "a = torch.tensor([1, 2, 3])\n",
        "b = torch.tensor([4, 5, 6])\n"
      ],
      "metadata": {
        "id": "XVuz7GGOiw1V"
      },
      "execution_count": 10,
      "outputs": []
    },
    {
      "cell_type": "code",
      "source": [
        "# Addition\n",
        "print(\"\\nAddition:\", a + b)\n"
      ],
      "metadata": {
        "colab": {
          "base_uri": "https://localhost:8080/"
        },
        "id": "5Zcw8BvUi1-D",
        "outputId": "518a0f4d-007b-4801-cd3b-15ab7e856416"
      },
      "execution_count": 11,
      "outputs": [
        {
          "output_type": "stream",
          "name": "stdout",
          "text": [
            "\n",
            "Addition: tensor([5, 7, 9])\n"
          ]
        }
      ]
    },
    {
      "cell_type": "code",
      "source": [
        "# Multiplication\n",
        "print(\"Multiplication:\", a * b)\n"
      ],
      "metadata": {
        "colab": {
          "base_uri": "https://localhost:8080/"
        },
        "id": "EiXNChSCi4gT",
        "outputId": "ef36b685-d748-4ba6-f1a1-4a2e49691867"
      },
      "execution_count": 12,
      "outputs": [
        {
          "output_type": "stream",
          "name": "stdout",
          "text": [
            "Multiplication: tensor([ 4, 10, 18])\n"
          ]
        }
      ]
    },
    {
      "cell_type": "code",
      "source": [
        "# Reduction (Sum, Mean)\n",
        "print(\"Sum:\", a.sum())\n",
        "print(\"Mean:\", a.float().mean())  # Convert to float for mean"
      ],
      "metadata": {
        "colab": {
          "base_uri": "https://localhost:8080/"
        },
        "id": "vU1goi4hi7fk",
        "outputId": "2bff64c4-b9f6-458c-9367-4cd09ae26704"
      },
      "execution_count": 13,
      "outputs": [
        {
          "output_type": "stream",
          "name": "stdout",
          "text": [
            "Sum: tensor(6)\n",
            "Mean: tensor(2.)\n"
          ]
        }
      ]
    },
    {
      "cell_type": "code",
      "source": [
        "#................................................ Manipulating Tensors......................................"
      ],
      "metadata": {
        "id": "y9GGszwwi-Gw"
      },
      "execution_count": 14,
      "outputs": []
    },
    {
      "cell_type": "code",
      "source": [
        "# Reshaping a tensor\n",
        "tensor = torch.arange(12)  # Creates a tensor with values [0, 1, ..., 11]\n",
        "reshaped_tensor = tensor.view(3, 4)  # Reshape into a 3x4 tensor\n",
        "print(\"\\nReshaped Tensor:\\n\", reshaped_tensor)\n"
      ],
      "metadata": {
        "colab": {
          "base_uri": "https://localhost:8080/"
        },
        "id": "4SbJRjJujdZI",
        "outputId": "bada681a-5483-4e28-f018-ec6efdd1f4c1"
      },
      "execution_count": 15,
      "outputs": [
        {
          "output_type": "stream",
          "name": "stdout",
          "text": [
            "\n",
            "Reshaped Tensor:\n",
            " tensor([[ 0,  1,  2,  3],\n",
            "        [ 4,  5,  6,  7],\n",
            "        [ 8,  9, 10, 11]])\n"
          ]
        }
      ]
    },
    {
      "cell_type": "code",
      "source": [
        "# Slicing\n",
        "print(\"First row:\", reshaped_tensor[0])\n",
        "print(\"Column 2:\", reshaped_tensor[:, 1])\n"
      ],
      "metadata": {
        "colab": {
          "base_uri": "https://localhost:8080/"
        },
        "id": "tWu7Xz2Gjf0J",
        "outputId": "8e5a8b51-5fbe-43c7-e782-a1a7f49b5c89"
      },
      "execution_count": 16,
      "outputs": [
        {
          "output_type": "stream",
          "name": "stdout",
          "text": [
            "First row: tensor([0, 1, 2, 3])\n",
            "Column 2: tensor([1, 5, 9])\n"
          ]
        }
      ]
    },
    {
      "cell_type": "code",
      "source": [
        "# Adding a dimension\n",
        "expanded_tensor = tensor.unsqueeze(0)  # Adds a dimension at axis 0\n",
        "print(\"Expanded Tensor Shape:\", expanded_tensor.shape)\n"
      ],
      "metadata": {
        "colab": {
          "base_uri": "https://localhost:8080/"
        },
        "id": "fdWvct82jh2W",
        "outputId": "ff755776-7408-42b7-f22f-24f97d28ea80"
      },
      "execution_count": 17,
      "outputs": [
        {
          "output_type": "stream",
          "name": "stdout",
          "text": [
            "Expanded Tensor Shape: torch.Size([1, 12])\n"
          ]
        }
      ]
    },
    {
      "cell_type": "code",
      "source": [
        "# Transposing (swap axes)\n",
        "transposed_tensor = reshaped_tensor.T\n",
        "print(\"Transposed Tensor:\\n\", transposed_tensor)"
      ],
      "metadata": {
        "colab": {
          "base_uri": "https://localhost:8080/"
        },
        "id": "ADYEmNWCjkFn",
        "outputId": "b2df1193-6f9a-486f-8592-81367e02cc6f"
      },
      "execution_count": 18,
      "outputs": [
        {
          "output_type": "stream",
          "name": "stdout",
          "text": [
            "Transposed Tensor:\n",
            " tensor([[ 0,  4,  8],\n",
            "        [ 1,  5,  9],\n",
            "        [ 2,  6, 10],\n",
            "        [ 3,  7, 11]])\n"
          ]
        }
      ]
    },
    {
      "cell_type": "code",
      "source": [
        "#....................................Broadcasting..................................."
      ],
      "metadata": {
        "id": "9JJP539Zjl6x"
      },
      "execution_count": 19,
      "outputs": []
    },
    {
      "cell_type": "code",
      "source": [
        "# Broadcasting allows operations on tensors of different shapes\n",
        "x = torch.tensor([[1, 2, 3]])\n",
        "y = torch.tensor([[1], [2], [3]])"
      ],
      "metadata": {
        "id": "z4y3SlCWk0C6"
      },
      "execution_count": 20,
      "outputs": []
    },
    {
      "cell_type": "code",
      "source": [
        "# Add a row vector and column vector\n",
        "result = x + y\n",
        "print(\"\\nBroadcasted Addition:\\n\", result)"
      ],
      "metadata": {
        "colab": {
          "base_uri": "https://localhost:8080/"
        },
        "id": "oP1CXpEdk38m",
        "outputId": "8a495ba6-0fc9-409b-d4a7-067a8b320d1d"
      },
      "execution_count": 21,
      "outputs": [
        {
          "output_type": "stream",
          "name": "stdout",
          "text": [
            "\n",
            "Broadcasted Addition:\n",
            " tensor([[2, 3, 4],\n",
            "        [3, 4, 5],\n",
            "        [4, 5, 6]])\n"
          ]
        }
      ]
    },
    {
      "cell_type": "code",
      "source": [
        "!git status\n"
      ],
      "metadata": {
        "colab": {
          "base_uri": "https://localhost:8080/"
        },
        "id": "WlOtd6zjk7BU",
        "outputId": "36234942-05e7-47c1-f3e5-0771a99483fd"
      },
      "execution_count": 22,
      "outputs": [
        {
          "output_type": "stream",
          "name": "stdout",
          "text": [
            "fatal: not a git repository (or any of the parent directories): .git\n"
          ]
        }
      ]
    },
    {
      "cell_type": "code",
      "source": [
        "!ls"
      ],
      "metadata": {
        "colab": {
          "base_uri": "https://localhost:8080/"
        },
        "id": "oCHmfDY3lDt3",
        "outputId": "da1f7b4a-073d-4d6d-fe4f-7a8bdcc49fc6"
      },
      "execution_count": 23,
      "outputs": [
        {
          "output_type": "stream",
          "name": "stdout",
          "text": [
            "sample_data\n"
          ]
        }
      ]
    },
    {
      "cell_type": "code",
      "source": [
        "#.......................................Matrix Operations....................."
      ],
      "metadata": {
        "id": "BUavZ18slFgk"
      },
      "execution_count": 24,
      "outputs": []
    },
    {
      "cell_type": "code",
      "source": [
        "# Matrix multiplication\n",
        "A = torch.tensor([[1, 2], [3, 4]])\n",
        "B = torch.tensor([[5, 6], [7, 8]])\n"
      ],
      "metadata": {
        "id": "yGmZQ7ZRlc83"
      },
      "execution_count": 25,
      "outputs": []
    },
    {
      "cell_type": "code",
      "source": [
        "# Matrix multiplication (dot product)\n",
        "C = torch.matmul(A, B)\n",
        "print(\"\\nMatrix Multiplication:\\n\", C)\n"
      ],
      "metadata": {
        "colab": {
          "base_uri": "https://localhost:8080/"
        },
        "id": "bS1fh82dlfHj",
        "outputId": "e9fb5672-5337-4089-a687-a5813ec0828a"
      },
      "execution_count": 26,
      "outputs": [
        {
          "output_type": "stream",
          "name": "stdout",
          "text": [
            "\n",
            "Matrix Multiplication:\n",
            " tensor([[19, 22],\n",
            "        [43, 50]])\n"
          ]
        }
      ]
    },
    {
      "cell_type": "code",
      "source": [
        "# Element-wise multiplication\n",
        "D = A * B\n",
        "print(\"Element-wise Multiplication:\\n\", D)\n"
      ],
      "metadata": {
        "colab": {
          "base_uri": "https://localhost:8080/"
        },
        "id": "oDiq07pMlhTB",
        "outputId": "9c03755f-d11c-4440-f2f4-9680cb3becd0"
      },
      "execution_count": 27,
      "outputs": [
        {
          "output_type": "stream",
          "name": "stdout",
          "text": [
            "Element-wise Multiplication:\n",
            " tensor([[ 5, 12],\n",
            "        [21, 32]])\n"
          ]
        }
      ]
    },
    {
      "cell_type": "code",
      "source": [
        "#................................Visualization of Tensors................................"
      ],
      "metadata": {
        "id": "Up9FG14Aljj9"
      },
      "execution_count": 28,
      "outputs": []
    },
    {
      "cell_type": "code",
      "source": [
        "import matplotlib.pyplot as plt\n",
        "\n",
        "# Visualize a 2D tensor (matrix)\n",
        "matrix = torch.tensor([[1, 2, 3], [4, 5, 6], [7, 8, 9]], dtype=torch.float32)\n",
        "\n",
        "plt.imshow(matrix, cmap='viridis')\n",
        "plt.colorbar()\n",
        "plt.title(\"Matrix Visualization\")\n",
        "plt.show()\n"
      ],
      "metadata": {
        "colab": {
          "base_uri": "https://localhost:8080/",
          "height": 452
        },
        "id": "aWx5an_6lzll",
        "outputId": "912716e8-5eda-4eb8-fd4e-8c64d1384905"
      },
      "execution_count": 29,
      "outputs": [
        {
          "output_type": "display_data",
          "data": {
            "text/plain": [
              "<Figure size 640x480 with 2 Axes>"
            ],
            "image/png": "[encoded data removed]"
          },
          "metadata": {}
        }
      ]
    },
    {
      "cell_type": "code",
      "source": [
        "# Creating a 3D tensor to represent an RGB image\n",
        "image_tensor = torch.rand(3, 100, 100)  # 3 channels (RGB), 100x100 pixels\n",
        "\n",
        "# Convert to NumPy for Matplotlib\n",
        "image_numpy = image_tensor.permute(1, 2, 0).numpy()  # Permute to (H, W, C)\n",
        "\n",
        "plt.imshow(image_numpy)\n",
        "plt.title(\"Random RGB Image\")\n",
        "plt.axis(\"off\")\n",
        "plt.show()\n"
      ],
      "metadata": {
        "colab": {
          "base_uri": "https://localhost:8080/",
          "height": 428
        },
        "id": "QjswE2dYl3Hx",
        "outputId": "87ab27d1-0600-4d22-90fa-b6931de7915d"
      },
      "execution_count": 30,
      "outputs": [
        {
          "output_type": "display_data",
          "data": {
            "text/plain": [
              "<Figure size 640x480 with 1 Axes>"
            ],
            "image/png": "[encoded data removed]"
          },
          "metadata": {}
        }
      ]
    },
    {
      "cell_type": "code",
      "source": [
        "#............................Tensor Operations on GPU........................"
      ],
      "metadata": {
        "id": "szTntav7l9f1"
      },
      "execution_count": 31,
      "outputs": []
    },
    {
      "cell_type": "code",
      "source": [
        "# Check if CUDA is available\n",
        "device = torch.device(\"cuda\" if torch.cuda.is_available() else \"cpu\")\n",
        "print(\"\\nUsing device:\", device)\n"
      ],
      "metadata": {
        "colab": {
          "base_uri": "https://localhost:8080/"
        },
        "id": "obtcq8RgmY6T",
        "outputId": "af20c4e9-24d6-47e0-feda-a9122a8802d2"
      },
      "execution_count": 32,
      "outputs": [
        {
          "output_type": "stream",
          "name": "stdout",
          "text": [
            "\n",
            "Using device: cpu\n"
          ]
        }
      ]
    },
    {
      "cell_type": "code",
      "source": [
        "# Create a tensor and move it to GPU\n",
        "tensor_gpu = torch.tensor([1, 2, 3], device=device)\n",
        "print(\"Tensor on GPU:\", tensor_gpu)\n",
        "\n"
      ],
      "metadata": {
        "colab": {
          "base_uri": "https://localhost:8080/"
        },
        "id": "XxLdoysUmbDB",
        "outputId": "d789c2f0-772b-40ea-f8d9-7969b4d7f7fa"
      },
      "execution_count": 33,
      "outputs": [
        {
          "output_type": "stream",
          "name": "stdout",
          "text": [
            "Tensor on GPU: tensor([1, 2, 3])\n"
          ]
        }
      ]
    },
    {
      "cell_type": "code",
      "source": [
        "# Perform operations on GPU\n",
        "result_gpu = tensor_gpu * 2\n",
        "print(\"Result on GPU:\", result_gpu)"
      ],
      "metadata": {
        "colab": {
          "base_uri": "https://localhost:8080/"
        },
        "id": "42-H4gzgmdea",
        "outputId": "26d70ef9-932e-457a-f609-e2bcfe6897a8"
      },
      "execution_count": 34,
      "outputs": [
        {
          "output_type": "stream",
          "name": "stdout",
          "text": [
            "Result on GPU: tensor([2, 4, 6])\n"
          ]
        }
      ]
    },
    {
      "cell_type": "code",
      "source": [
        "#..................................Neural Network Use Case..............................."
      ],
      "metadata": {
        "id": "zHIJrZSOmgpr"
      },
      "execution_count": 35,
      "outputs": []
    },
    {
      "cell_type": "code",
      "source": [
        "import torch.nn as nn\n",
        "import torch.nn.functional as F\n"
      ],
      "metadata": {
        "id": "r6mDqd6Bmv9k"
      },
      "execution_count": 36,
      "outputs": []
    },
    {
      "cell_type": "code",
      "source": [
        "# Dummy data\n",
        "inputs = torch.rand(5, 3)  # Batch of 5 samples, 3 features each\n",
        "print(\"\\nInputs:\\n\", inputs)\n"
      ],
      "metadata": {
        "colab": {
          "base_uri": "https://localhost:8080/"
        },
        "id": "Cog1QB8lmySQ",
        "outputId": "286463ca-1658-4d0e-a120-0b49f772ccbb"
      },
      "execution_count": 37,
      "outputs": [
        {
          "output_type": "stream",
          "name": "stdout",
          "text": [
            "\n",
            "Inputs:\n",
            " tensor([[0.6436, 0.4125, 0.9343],\n",
            "        [0.0573, 0.9411, 0.2665],\n",
            "        [0.6751, 0.0817, 0.5673],\n",
            "        [0.6297, 0.7525, 0.3166],\n",
            "        [0.8638, 0.6779, 0.9830]])\n"
          ]
        }
      ]
    },
    {
      "cell_type": "code",
      "source": [
        "# Linear layer\n",
        "linear = nn.Linear(3, 2)  # Maps from 3 features to 2\n",
        "outputs = linear(inputs)\n",
        "print(\"\\nLinear Layer Outputs:\\n\", outputs)"
      ],
      "metadata": {
        "colab": {
          "base_uri": "https://localhost:8080/"
        },
        "id": "lCQgWNi1m0a9",
        "outputId": "7dc83287-65b2-4142-ded7-ba975afc0368"
      },
      "execution_count": 38,
      "outputs": [
        {
          "output_type": "stream",
          "name": "stdout",
          "text": [
            "\n",
            "Linear Layer Outputs:\n",
            " tensor([[ 0.9708,  0.2203],\n",
            "        [ 0.5296, -0.0033],\n",
            "        [ 0.8003, -0.0084],\n",
            "        [ 0.7750,  0.2089],\n",
            "        [ 1.1220,  0.4629]], grad_fn=<AddmmBackward0>)\n"
          ]
        }
      ]
    },
    {
      "cell_type": "code",
      "source": [
        "# Apply activation (ReLU)\n",
        "activated_outputs = F.relu(outputs)\n",
        "print(\"\\nActivated Outputs:\\n\", activated_outputs)"
      ],
      "metadata": {
        "colab": {
          "base_uri": "https://localhost:8080/"
        },
        "id": "pXnVz11Pm2_U",
        "outputId": "fb01950b-e1fa-4322-f6b1-92c00fbc98f5"
      },
      "execution_count": 39,
      "outputs": [
        {
          "output_type": "stream",
          "name": "stdout",
          "text": [
            "\n",
            "Activated Outputs:\n",
            " tensor([[0.9708, 0.2203],\n",
            "        [0.5296, 0.0000],\n",
            "        [0.8003, 0.0000],\n",
            "        [0.7750, 0.2089],\n",
            "        [1.1220, 0.4629]], grad_fn=<ReluBackward0>)\n"
          ]
        }
      ]
    },
    {
      "cell_type": "code",
      "source": [
        "#..........................Visualize 4D Tensors................................."
      ],
      "metadata": {
        "id": "arXshggum5WP"
      },
      "execution_count": 41,
      "outputs": []
    },
    {
      "cell_type": "code",
      "source": [
        "#Method 1: Visualize 2D Slices of the Tensor\n",
        "\n",
        "import torch\n",
        "import matplotlib.pyplot as plt\n",
        "\n",
        "# Create a random 4D tensor (e.g., [Batch, Channels, Height, Width])\n",
        "tensor_4d = torch.rand(3, 4, 5, 5)  # [3 batches, 4 channels, 5x5 spatial dimensions]\n",
        "\n",
        "# Select a specific batch and channel\n",
        "batch_idx = 1\n",
        "channel_idx = 2\n",
        "\n",
        "# Extract the 2D slice for the chosen batch and channel\n",
        "slice_2d = tensor_4d[batch_idx, channel_idx]\n",
        "\n",
        "# Visualize the 2D slice\n",
        "plt.imshow(slice_2d.numpy(), cmap=\"viridis\")\n",
        "plt.colorbar()\n",
        "plt.title(f\"Batch {batch_idx}, Channel {channel_idx}\")\n",
        "plt.show()\n"
      ],
      "metadata": {
        "colab": {
          "base_uri": "https://localhost:8080/",
          "height": 452
        },
        "id": "lFOKDRyUoowl",
        "outputId": "df92ff2e-9f83-4613-cc14-9d7027f25bc0"
      },
      "execution_count": 43,
      "outputs": [
        {
          "output_type": "display_data",
          "data": {
            "text/plain": [
              "<Figure size 640x480 with 2 Axes>"
            ],
            "image/png": "[encoded data removed]"
          },
          "metadata": {}
        }
      ]
    },
    {
      "cell_type": "code",
      "source": [
        "#Method 2: Visualize Multiple Channels for a Batch\n",
        "\n",
        "# Select a specific batch\n",
        "batch_idx = 0\n",
        "\n",
        "# Extract all channels for the chosen batch\n",
        "channels = tensor_4d[batch_idx]\n",
        "\n",
        "# Plot all channels\n",
        "fig, axes = plt.subplots(1, channels.shape[0], figsize=(15, 5))\n",
        "fig.suptitle(f\"All Channels for Batch {batch_idx}\", fontsize=16)\n",
        "\n",
        "for i, ax in enumerate(axes):\n",
        "    ax.imshow(channels[i].numpy(), cmap=\"plasma\")\n",
        "    ax.set_title(f\"Channel {i}\")\n",
        "    ax.axis(\"off\")\n",
        "\n",
        "plt.show()\n"
      ],
      "metadata": {
        "colab": {
          "base_uri": "https://localhost:8080/",
          "height": 405
        },
        "id": "cOFadWQJosyY",
        "outputId": "43675187-939f-4651-be9d-a36563856d66"
      },
      "execution_count": 44,
      "outputs": [
        {
          "output_type": "display_data",
          "data": {
            "text/plain": [
              "<Figure size 1500x500 with 4 Axes>"
            ],
            "image/png": "[encoded data removed]"
          },
          "metadata": {}
        }
      ]
    },
    {
      "cell_type": "code",
      "source": [
        "#Method 3: Visualize Temporal Evolution or Depth\n",
        "\n",
        "# Select a specific channel\n",
        "channel_idx = 1\n",
        "\n",
        "# Extract all slices along the time (or batch) dimension for the chosen channel\n",
        "time_slices = tensor_4d[:, channel_idx]\n",
        "\n",
        "# Plot all time slices\n",
        "fig, axes = plt.subplots(1, time_slices.shape[0], figsize=(15, 5))\n",
        "fig.suptitle(f\"Temporal/Batch Slices for Channel {channel_idx}\", fontsize=16)\n",
        "\n",
        "for i, ax in enumerate(axes):\n",
        "    ax.imshow(time_slices[i].numpy(), cmap=\"cividis\")\n",
        "    ax.set_title(f\"Time/Batch {i}\")\n",
        "    ax.axis(\"off\")\n",
        "\n",
        "plt.show()\n"
      ],
      "metadata": {
        "colab": {
          "base_uri": "https://localhost:8080/",
          "height": 450
        },
        "id": "o__qxp5Jo8Q9",
        "outputId": "c5206f84-6362-42bf-8aec-4fe5c0673154"
      },
      "execution_count": 45,
      "outputs": [
        {
          "output_type": "display_data",
          "data": {
            "text/plain": [
              "<Figure size 1500x500 with 3 Axes>"
            ],
            "image/png": "[encoded data removed]"
          },
          "metadata": {}
        }
      ]
    },
    {
      "cell_type": "code",
      "source": [
        "#.................try to visualize 5D tensors.................."
      ],
      "metadata": {
        "id": "tDy0A3SGqGLG"
      },
      "execution_count": 48,
      "outputs": []
    },
    {
      "cell_type": "code",
      "source": [
        "import torch\n",
        "import matplotlib.pyplot as plt\n",
        "\n",
        "# Create a random 5D tensor (e.g., [Batch, Channels, Depth, Height, Width])\n",
        "tensor_5d = torch.rand(2, 3, 4, 5, 5)  # [2 batches, 3 channels, 4 depths, 5x5 spatial dimensions]\n",
        "\n",
        "# Select a single batch and channel for visualization\n",
        "batch_idx = 0\n",
        "channel_idx = 1\n",
        "\n",
        "# Extract slices along the depth dimension\n",
        "depth_slices = tensor_5d[batch_idx, channel_idx]\n",
        "\n",
        "# Visualize each depth slice as a 2D image\n",
        "fig, axes = plt.subplots(1, depth_slices.shape[0], figsize=(15, 5))\n",
        "fig.suptitle(\"Slices of a 5D Tensor along Depth Dimension\", fontsize=16)\n",
        "\n",
        "for i, ax in enumerate(axes):\n",
        "    ax.imshow(depth_slices[i].numpy(), cmap=\"viridis\")\n",
        "    ax.set_title(f\"Depth {i}\")\n",
        "    ax.axis(\"off\")\n",
        "\n",
        "plt.show()\n"
      ],
      "metadata": {
        "colab": {
          "base_uri": "https://localhost:8080/",
          "height": 405
        },
        "id": "o1NF35ZZq8wh",
        "outputId": "cece1759-e16e-4ca1-f950-c4c0cac7b761"
      },
      "execution_count": 49,
      "outputs": [
        {
          "output_type": "display_data",
          "data": {
            "text/plain": [
              "<Figure size 1500x500 with 4 Axes>"
            ],
            "image/png": "[encoded data removed]"
          },
          "metadata": {}
        }
      ]
    },
    {
      "cell_type": "code",
      "source": [],
      "metadata": {
        "id": "OCTGs0fTrCz1"
      },
      "execution_count": null,
      "outputs": []
    }
  ]
}